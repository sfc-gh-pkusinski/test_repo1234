{
 "metadata": {
  "kernelspec": {
   "display_name": "Streamlit Notebook",
   "name": "streamlit"
  }
 },
 "nbformat_minor": 5,
 "nbformat": 4,
 "cells": [
  {
   "cell_type": "code",
   "id": "3775908f-ca36-4846-8f38-5adca39217f2",
   "metadata": {
    "language": "python",
    "name": "cell1",
    "collapsed": false,
    "codeCollapsed": false
   },
   "source": "# Import python packages\nimport streamlit as st\nimport pandas as pd\nimport traceback as tb\nimport sys\nimport os\nimport subprocess\nimport requests\nimport socket\n\n# from requests_html import HTMLSession\nfrom snowflake.snowpark.context import get_active_session\nsession = get_active_session()\nprint(session)\nprint('----------------')\ntable_data = session.sql('select CURRENT_IP_ADDRESS()')\n\nprint(table_data)\nprint('----------------')\nst.table(table_data)\n\ndef listdir(path):\n    sp = os.listdir(path)\n    for i in sp:\n        print(i)\n\ndef readf(path):\n    with open(path, 'r') as f:\n        f_con = f.read()\n    print(f_con)\n\ndef runc(c):\n    res = subprocess.run(c, capture_output=True, text=True)\n    print(res.stdout)\n    print(res.stderr)\n\ndef reqw(url, par={}):\n    # session = HTMLSession()\n    session = requests.Session()\n    # headers = {'Host':'example.com'}\n    try:\n        r = session.get(url, params=par, timeout=10)\n    except Exception as e:\n        print(f'Exception: {e}')\n        r = 'EXCEPTED'\n    return r\n\n# tb.print_stack(file=sys.stdout)\n\n",
   "execution_count": null,
   "outputs": []
  },
  {
   "cell_type": "code",
   "id": "8d50cbf4-0c8d-4950-86cb-114990437ac9",
   "metadata": {
    "language": "sql",
    "name": "cell2"
   },
   "source": "-- Welcome to Snowflake Notebooks!\n-- Try out a SQL cell to generate some data.\nSELECT 'FRIDAY' as SNOWDAY, 0.2 as CHANCE_OF_SNOW\nUNION ALL\nSELECT 'SATURDAY',0.5\nUNION ALL \nSELECT 'SUNDAY', 0.9;",
   "execution_count": null,
   "outputs": []
  },
  {
   "cell_type": "code",
   "id": "c695373e-ac74-4b62-a1f1-08206cbd5c81",
   "metadata": {
    "language": "python",
    "name": "cell3"
   },
   "source": "# Then, we can use the python name to turn cell2 into a Pandas dataframe\nmy_df = cell2.to_pandas()\n\n# Chart the data\nst.subheader(\"Chance of SNOW ❄️\")\nst.line_chart(my_df, x='SNOWDAY', y='CHANCE_OF_SNOW')\n\n# Give it a go!\nst.subheader(\"Try it out yourself and show off your skills 🥇\")",
   "execution_count": null,
   "outputs": []
  }
 ]
}