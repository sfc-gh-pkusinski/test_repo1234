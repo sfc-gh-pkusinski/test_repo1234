{
 "cells": [
  {
   "cell_type": "code",
   "execution_count": null,
   "id": "3775908f-ca36-4846-8f38-5adca39217f2",
   "metadata": {
    "codeCollapsed": false,
    "collapsed": false,
    "language": "python",
    "name": "cell1"
   },
   "outputs": [],
   "source": [
    "# Import python packages\n",
    "import streamlit as st\n",
    "import pandas as pd\n",
    "import traceback as tb\n",
    "import sys\n",
    "import os\n",
    "import subprocess\n",
    "import requests\n",
    "import socket\n",
    "\n",
    "# from requests_html import HTMLSession\n",
    "FROMCLI"
   ]
  },
  {
   "cell_type": "code",
   "execution_count": null,
   "id": "8d50cbf4-0c8d-4950-86cb-114990437ac9",
   "metadata": {
    "language": "sql",
    "name": "cell2"
   },
   "outputs": [],
   "source": [
    "-- Welcome to Snowflake Notebooks!\n",
    "-- Try out a SQL cell to generate some data.\n",
    "SELECT 'FRIDAY' as SNOWDAY, 0.2 as CHANCE_OF_SNOW\n",
    "UNION ALL\n",
    "SELECT 'SATURDAY',0.5\n",
    "UNION ALL \n",
    "SELECT 'SUNDAY', 0.9;"
   ]
  },
  {
   "cell_type": "code",
   "execution_count": null,
   "id": "c695373e-ac74-4b62-a1f1-08206cbd5c81",
   "metadata": {
    "language": "python",
    "name": "cell3"
   },
   "outputs": [],
   "source": [
    "# Then, we can use the python name to turn cell2 into a Pandas dataframe\n",
    "my_df = cell2.to_pandas()\n",
    "\n",
    "# Chart the data\n",
    "st.subheader(\"Chance of SNOW ❄️\")\n",
    "st.line_chart(my_df, x='SNOWDAY', y='CHANCE_OF_SNOW')\n",
    "\n",
    "# Give it a go!\n",
    "st.subheader(\"Try it out yourself and show off your skills 🥇\")"
   ]
  }
 ],
 "metadata": {
  "kernelspec": {
   "display_name": "Streamlit Notebook",
   "name": "streamlit"
  }
 },
 "nbformat": 4,
 "nbformat_minor": 5
}
